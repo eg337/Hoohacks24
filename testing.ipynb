{
 "cells": [
  {
   "cell_type": "code",
   "execution_count": null,
   "metadata": {},
   "outputs": [],
   "source": [
    "from serpapi import GoogleSearch \n",
    "params = {\n",
    "  \"engine\": \"google_reverse_image\",\n",
    "  \"image_url\": \"https://pbs.twimg.com/media/GG_Zyf6aIAAzyJj?format=png&name=900x900\",\n",
    "  \"api_key\": \"852564d05052e29ed6b66ab33277484004f9dd4e4b41aec7d4ff7d1c3e309497\",\n",
    "  \"filter\": 0\n",
    "}\n",
    "\n",
    "search = GoogleSearch(params)\n",
    "results = search.get_dict()\n",
    "inline_images = results[\"inline_images\"]\n",
    "\n",
    "\n",
    "print(results)\n",
    "print(len(results))\n"
   ]
  },
  {
   "cell_type": "code",
   "execution_count": null,
   "metadata": {},
   "outputs": [],
   "source": [
    "print(inline_images)"
   ]
  },
  {
   "cell_type": "code",
   "execution_count": null,
   "metadata": {},
   "outputs": [],
   "source": [
    "image_sizes = results[\"image_sizes\"]\n",
    "print(image_sizes)\n",
    "dic = image_sizes[0]\n"
   ]
  },
  {
   "cell_type": "code",
   "execution_count": null,
   "metadata": {},
   "outputs": [],
   "source": []
  },
  {
   "cell_type": "code",
   "execution_count": null,
   "metadata": {},
   "outputs": [],
   "source": [
    "\n",
    "url = image_sizes[0]['serpapi_link']\n",
    "url += \"&api_key=\"\n",
    "url += params['api_key']\n",
    "print(url)"
   ]
  },
  {
   "cell_type": "code",
   "execution_count": null,
   "metadata": {},
   "outputs": [],
   "source": [
    "\n",
    "# import urllib library \n",
    "from urllib.request import urlopen \n",
    "  \n",
    "# import json \n",
    "import json \n",
    "\n",
    "response  = urlopen(url)\n",
    "\n",
    "data_json = json.loads(response.read()) \n",
    "  \n",
    "# print the json response \n",
    "print(data_json) \n"
   ]
  },
  {
   "cell_type": "code",
   "execution_count": null,
   "metadata": {},
   "outputs": [],
   "source": [
    "images = data_json[\"images_results\"]\n",
    "\n",
    "links = []\n",
    "for i in images:\n",
    "    links.append(i[\"link\"])"
   ]
  },
  {
   "cell_type": "code",
   "execution_count": null,
   "metadata": {},
   "outputs": [],
   "source": [
    "links = links[::-1]"
   ]
  },
  {
   "cell_type": "code",
   "execution_count": null,
   "metadata": {},
   "outputs": [],
   "source": [
    "#((artist|credit( to)?|twt|twitter|twi|ig|instagram|insta|op|facebook|fb|pixiv):?\\s*@?([^\\s])+\n",
    "import re\n",
    "import requests\n",
    "from bs4 import BeautifulSoup\n",
    "from selenium import webdriver\n",
    "\n",
    "#regex = \"((artist|owner|credit( to)?|twt|twitter|twi|ig|instagram|insta|op|facebook|fb|pixiv):?\\s*@?([^\\s])+)\"\n",
    "regex = \"((artist|owner|credit( to)?|twt|twitter|twi|ig|instagram|insta|op|facebook|fb|pixiv):?\\s*@?([^\\s]+))+\"\n",
    "driver = webdriver.Chrome()\n",
    "\n",
    "texts = []\n",
    "matches = []\n",
    "for i in links:\n",
    "    driver.get(i)\n",
    "    data = driver.page_source\n",
    "    soup = BeautifulSoup(data)\n",
    "    txt = soup.prettify()\n",
    "    texts.append(txt)\n",
    "    x = re.findall(regex, txt)\n",
    "    matches.append(x)"
   ]
  },
  {
   "cell_type": "code",
   "execution_count": null,
   "metadata": {},
   "outputs": [],
   "source": [
    "print(matches)"
   ]
  },
  {
   "cell_type": "code",
   "execution_count": null,
   "metadata": {},
   "outputs": [],
   "source": [
    "for i in range(len(links)):\n",
    "    print(i)\n",
    "    print(links[i])\n",
    "print(texts[0])"
   ]
  },
  {
   "cell_type": "code",
   "execution_count": null,
   "metadata": {},
   "outputs": [],
   "source": [
    "regex = \"(\\s(artist|owner|credit( to)?|twt|twitter|twi|ig|instagram|insta|op|facebook|fb|pixiv):?\\s+@?([\\w_]+))+\"\n",
    "#made there be a space at the start of the word bc of things like \"top: 0\"\n",
    "#changed the artists name from non white space chars to alphanumeric plus underscores, bc of config = ...\n",
    "#\n",
    "for i in range(len(texts)):\n",
    "    x = re.findall(regex, texts[i])\n",
    "    print(i)\n",
    "    if len(x) > 0:\n",
    "        print(x)\n",
    "        print(x[0][3])\n",
    "        break"
   ]
  },
  {
   "cell_type": "code",
   "execution_count": null,
   "metadata": {},
   "outputs": [],
   "source": [
    "texts= texts[::-1]"
   ]
  },
  {
   "cell_type": "code",
   "execution_count": null,
   "metadata": {},
   "outputs": [],
   "source": [
    "print(texts[0])"
   ]
  },
  {
   "cell_type": "markdown",
   "metadata": {},
   "source": [
    "credit (to):\n",
    "twi:\n",
    "twt:\n",
    "twitter:\n",
    "insta:\n",
    "instagram:\n",
    "ig: \n",
    "w/o or w \n",
    "artist\n",
    "op:\n",
    "fb:\n",
    "credit:\n",
    "pixiv:\n",
    "\n"
   ]
  }
 ],
 "metadata": {
  "kernelspec": {
   "display_name": "base",
   "language": "python",
   "name": "python3"
  },
  "language_info": {
   "codemirror_mode": {
    "name": "ipython",
    "version": 3
   },
   "file_extension": ".py",
   "mimetype": "text/x-python",
   "name": "python",
   "nbconvert_exporter": "python",
   "pygments_lexer": "ipython3",
   "version": "3.9.12"
  }
 },
 "nbformat": 4,
 "nbformat_minor": 2
}
